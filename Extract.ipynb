{
  "nbformat": 4,
  "nbformat_minor": 0,
  "metadata": {
    "colab": {
      "provenance": []
    },
    "kernelspec": {
      "name": "python3",
      "display_name": "Python 3"
    },
    "language_info": {
      "name": "python"
    }
  },
  "cells": [
    {
      "cell_type": "code",
      "execution_count": null,
      "metadata": {
        "colab": {
          "base_uri": "https://localhost:8080/"
        },
        "id": "f01pesy-uSA9",
        "outputId": "fe9c7632-bbdc-4725-9e46-97fb87a8c0a4"
      },
      "outputs": [
        {
          "output_type": "stream",
          "name": "stdout",
          "text": [
            "       Months\n",
            "0     January\n",
            "1    February\n",
            "2       March\n",
            "3       April\n",
            "4         May\n",
            "5        June\n",
            "6        July\n",
            "7      August\n",
            "8   September\n",
            "9     October\n",
            "10   November\n",
            "11   December\n"
          ]
        }
      ],
      "source": [
        "import pandas as pd\n",
        "data = {\"Months\":[\"January\", \"February\", \"March\", \"April\", \"May\", \"June\", \"July\", \"August\", \"September\", \"October\", \"November\", \"December\"]}\n",
        "a = pd.DataFrame(data)\n",
        "print(a)"
      ]
    },
    {
      "cell_type": "markdown",
      "source": [
        "# **Extract values using String Method**"
      ],
      "metadata": {
        "id": "kmEGefxgwi18"
      }
    },
    {
      "cell_type": "code",
      "source": [
        "a[\"Short_Months\"]= a[\"Months\"].str[0:3]\n",
        "print(a)"
      ],
      "metadata": {
        "colab": {
          "base_uri": "https://localhost:8080/"
        },
        "id": "o_jxWpGPvHcc",
        "outputId": "08da235c-c487-441b-920b-b6f38f2322eb"
      },
      "execution_count": null,
      "outputs": [
        {
          "output_type": "stream",
          "name": "stdout",
          "text": [
            "       Months Short_Months\n",
            "0     January          Jan\n",
            "1    February          Feb\n",
            "2       March          Mar\n",
            "3       April          Apr\n",
            "4         May          May\n",
            "5        June          Jun\n",
            "6        July          Jul\n",
            "7      August          Aug\n",
            "8   September          Sep\n",
            "9     October          Oct\n",
            "10   November          Nov\n",
            "11   December          Dec\n"
          ]
        }
      ]
    },
    {
      "cell_type": "markdown",
      "source": [
        "#exctract values using function & Apply"
      ],
      "metadata": {
        "id": "arRO6U9UwBNz"
      }
    },
    {
      "cell_type": "code",
      "source": [
        "def extract(value):\n",
        "    return value[0:3]\n",
        "a[\"Short_Months\"] = a[\"Months\"].apply(extract)\n",
        "print(a)"
      ],
      "metadata": {
        "colab": {
          "base_uri": "https://localhost:8080/"
        },
        "id": "BmIPey6avm7X",
        "outputId": "241ff095-1f8e-4b2e-9cb4-b4cbdd9bca5f"
      },
      "execution_count": null,
      "outputs": [
        {
          "output_type": "stream",
          "name": "stdout",
          "text": [
            "       Months Short_Months\n",
            "0     January          Jan\n",
            "1    February          Feb\n",
            "2       March          Mar\n",
            "3       April          Apr\n",
            "4         May          May\n",
            "5        June          Jun\n",
            "6        July          Jul\n",
            "7      August          Aug\n",
            "8   September          Sep\n",
            "9     October          Oct\n",
            "10   November          Nov\n",
            "11   December          Dec\n"
          ]
        }
      ]
    },
    {
      "cell_type": "markdown",
      "source": [
        "## **#Extract Values using Function and Map**"
      ],
      "metadata": {
        "id": "uTnFDA2QwPfm"
      }
    },
    {
      "cell_type": "code",
      "source": [
        "def extract(value):\n",
        "    return value[0:3]\n",
        "a[\"Short_Months\"] = a[\"Months\"].map(extract)\n",
        "print(a)"
      ],
      "metadata": {
        "colab": {
          "base_uri": "https://localhost:8080/"
        },
        "id": "MYT9GYOVv0py",
        "outputId": "11026620-fc47-446d-862e-2e668cfaceab"
      },
      "execution_count": null,
      "outputs": [
        {
          "output_type": "stream",
          "name": "stdout",
          "text": [
            "       Months Short_Months\n",
            "0     January          Jan\n",
            "1    February          Feb\n",
            "2       March          Mar\n",
            "3       April          Apr\n",
            "4         May          May\n",
            "5        June          Jun\n",
            "6        July          Jul\n",
            "7      August          Aug\n",
            "8   September          Sep\n",
            "9     October          Oct\n",
            "10   November          Nov\n",
            "11   December          Dec\n"
          ]
        }
      ]
    }
  ]
}